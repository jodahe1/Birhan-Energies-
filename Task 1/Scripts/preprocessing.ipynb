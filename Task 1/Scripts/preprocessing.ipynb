{
 "cells": [
  {
   "cell_type": "code",
   "execution_count": 9,
   "metadata": {},
   "outputs": [],
   "source": [
    "import pandas as pd\n",
    "import numpy as np\n",
    "import matplotlib.pyplot as plt"
   ]
  },
  {
   "cell_type": "code",
   "execution_count": 4,
   "metadata": {},
   "outputs": [
    {
     "name": "stdout",
     "output_type": "stream",
     "text": [
      "                        date  price  percentChange  change\n",
      "0  1983-06-01 00:00:00+00:00  31.38            NaN     NaN\n",
      "1  1983-07-01 00:00:00+00:00  32.00          1.976    0.62\n",
      "2  1983-08-01 00:00:00+00:00  31.59         -1.281   -0.41\n",
      "3  1983-09-01 00:00:00+00:00  30.36         -3.894   -1.23\n",
      "4  1983-10-01 00:00:00+00:00  30.37          0.033    0.01\n"
     ]
    }
   ],
   "source": [
    "data = pd.read_csv(\"../Data/crude-oil-price.csv\")\n",
    "print(data.head())"
   ]
  },
  {
   "cell_type": "code",
   "execution_count": 5,
   "metadata": {},
   "outputs": [
    {
     "name": "stdout",
     "output_type": "stream",
     "text": [
      "            price  percentChange      change\n",
      "count  494.000000     493.000000  493.000000\n",
      "mean    46.325888       0.737925    0.105974\n",
      "std     29.083015      10.512494    4.973496\n",
      "min     10.420000     -54.245000  -32.830000\n",
      "25%     20.420000      -5.332000   -1.720000\n",
      "50%     33.685000       0.929000    0.270000\n",
      "75%     69.322500       6.377000    2.400000\n",
      "max    140.000000      88.376000   16.650000\n"
     ]
    }
   ],
   "source": [
    "summary_stats = data.describe()\n",
    "print(summary_stats)"
   ]
  },
  {
   "cell_type": "code",
   "execution_count": 7,
   "metadata": {},
   "outputs": [
    {
     "name": "stdout",
     "output_type": "stream",
     "text": [
      "Missing values:\n",
      "date             0\n",
      "price            0\n",
      "percentChange    1\n",
      "change           1\n",
      "dtype: int64\n",
      "\n",
      "Inconsistencies:\n",
      "0\n"
     ]
    }
   ],
   "source": [
    "# Check for missing values\n",
    "missing_values = data.isnull().sum()\n",
    "print(\"Missing values:\")\n",
    "print(missing_values)\n",
    "\n",
    "# Check for inconsistencies\n",
    "inconsistencies = data.duplicated().sum()\n",
    "print(\"\\nInconsistencies:\")\n",
    "print(inconsistencies)\n"
   ]
  },
  {
   "cell_type": "code",
   "execution_count": 10,
   "metadata": {},
   "outputs": [],
   "source": [
    "data['date'] = pd.to_datetime(data['date'])\n",
    "data['price'] = data['price'].astype(float)"
   ]
  },
  {
   "cell_type": "markdown",
   "metadata": {},
   "source": [
    "Data Cleaning"
   ]
  },
  {
   "cell_type": "code",
   "execution_count": 12,
   "metadata": {},
   "outputs": [
    {
     "name": "stdout",
     "output_type": "stream",
     "text": [
      "                         date  price  percentChange  change\n",
      "300 2008-06-01 00:00:00+00:00  140.0          9.933   12.65\n"
     ]
    }
   ],
   "source": [
    "z_scores = np.abs((data['price'] - data['price'].mean()) / data['price'].std())\n",
    "outliers = data[z_scores > 3]\n",
    "print(outliers)"
   ]
  },
  {
   "cell_type": "code",
   "execution_count": 13,
   "metadata": {},
   "outputs": [],
   "source": [
    "data = data.drop_duplicates()"
   ]
  }
 ],
 "metadata": {
  "kernelspec": {
   "display_name": "Python 3",
   "language": "python",
   "name": "python3"
  },
  "language_info": {
   "codemirror_mode": {
    "name": "ipython",
    "version": 3
   },
   "file_extension": ".py",
   "mimetype": "text/x-python",
   "name": "python",
   "nbconvert_exporter": "python",
   "pygments_lexer": "ipython3",
   "version": "3.11.4"
  }
 },
 "nbformat": 4,
 "nbformat_minor": 2
}
